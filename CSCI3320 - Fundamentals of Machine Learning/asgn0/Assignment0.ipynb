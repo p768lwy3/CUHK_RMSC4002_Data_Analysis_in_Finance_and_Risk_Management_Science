{
 "cells": [
  {
   "cell_type": "markdown",
   "metadata": {},
   "source": [
    "# 3 Linear Regression in Scikit-learn (40%)"
   ]
  },
  {
   "cell_type": "code",
   "execution_count": 1,
   "metadata": {},
   "outputs": [],
   "source": [
    "import matplotlib.pyplot as plt\n",
    "import numpy as np\n",
    "from sklearn import datasets, linear_model\n",
    "import seaborn; seaborn.set()"
   ]
  },
  {
   "cell_type": "code",
   "execution_count": 2,
   "metadata": {},
   "outputs": [],
   "source": [
    "# Load the diabetes dataset\n",
    "diabetes = datasets.load_diabetes()"
   ]
  },
  {
   "cell_type": "code",
   "execution_count": 3,
   "metadata": {},
   "outputs": [],
   "source": [
    "#print(type(diabetes.data))\n",
    "#print(diabetes.data.shape)\n",
    "#print(diabetes.data[:5])"
   ]
  },
  {
   "cell_type": "markdown",
   "metadata": {},
   "source": [
    "#### Q1. Get n_features and n_samples. (5%)"
   ]
  },
  {
   "cell_type": "code",
   "execution_count": 4,
   "metadata": {},
   "outputs": [
    {
     "name": "stdout",
     "output_type": "stream",
     "text": [
      "Number of features in the Diabetes dataset is: 10\n",
      "Number of samples in the Diabetes dataset is: 442\n"
     ]
    }
   ],
   "source": [
    "print('Number of features in the Diabetes dataset is: %s' % str(diabetes.data.shape[1]))\n",
    "print('Number of samples in the Diabetes dataset is: %s' % str(diabetes.data.shape[0]))"
   ]
  },
  {
   "cell_type": "markdown",
   "metadata": {},
   "source": [
    "#### Q2. Find out how each feature fits the disease progression. (15%)"
   ]
  },
  {
   "cell_type": "code",
   "execution_count": 5,
   "metadata": {},
   "outputs": [],
   "source": [
    "# which feature\n",
    "# i_feature = 0\n",
    "\n",
    "# Get the feature name\n",
    "feature_names = ['Age', 'Sex', 'Body mass index', 'Average blood pressure', 'S1',\n",
    "                 'S2', 'S3', 'S4', 'S5', 'S6']"
   ]
  },
  {
   "cell_type": "code",
   "execution_count": 6,
   "metadata": {},
   "outputs": [],
   "source": [
    "# set two lists to save the results\n",
    "order_list_of_feature_name = []\n",
    "order_list_of_model_score = []"
   ]
  },
  {
   "cell_type": "code",
   "execution_count": 7,
   "metadata": {},
   "outputs": [],
   "source": [
    "# loop through the name list\n",
    "for i_feature, feature_name in enumerate(feature_names):\n",
    "    # Use only one feature\n",
    "    diabetes_X = diabetes.data[:, np.newaxis, i_feature]\n",
    "    \n",
    "    # Split the data into training/testing sets\n",
    "    diabetes_X_train = diabetes_X[:-20]\n",
    "    diabetes_X_test = diabetes_X[-20:]\n",
    "    \n",
    "    # Split the targets into training/testing sets\n",
    "    diabetes_y_train = diabetes.target[:-20]\n",
    "    diabetes_y_test = diabetes.target[-20:]\n",
    "    \n",
    "    # Create linear regression object\n",
    "    model = linear_model.LinearRegression()\n",
    "    \n",
    "    # Train the model using the training sets\n",
    "    model.fit(diabetes_X_train, diabetes_y_train)\n",
    "    \n",
    "    # Explained variance score: score=1 is perfect prediction\n",
    "    model_score = model.score(diabetes_X_test, diabetes_y_test)\n",
    "    \n",
    "    # save to the list\n",
    "    order_list_of_feature_name.append(feature_name)\n",
    "    order_list_of_model_score.append(model_score)"
   ]
  },
  {
   "cell_type": "code",
   "execution_count": 8,
   "metadata": {},
   "outputs": [
    {
     "name": "stdout",
     "output_type": "stream",
     "text": [
      "Order list of feature name is: ['Age', 'Sex', 'Body mass index', 'Average blood pressure', 'S1', 'S2', 'S3', 'S4', 'S5', 'S6']\n",
      "Order list of model score is: [-0.1327020163062087, -0.13883792137588857, 0.4725754479822714, 0.15995117339547205, -0.16094176987655562, -0.15171870558113, 0.060610607792839555, -0.004070338973065635, 0.3948984231023219, -0.08990371992812851]\n"
     ]
    }
   ],
   "source": [
    "print('Order list of feature name is: %s' % str(order_list_of_feature_name))\n",
    "print('Order list of model score is: %s' % str(order_list_of_model_score))"
   ]
  },
  {
   "cell_type": "markdown",
   "metadata": {},
   "source": [
    "#### Q3. Calculate the loss function. (5%)"
   ]
  },
  {
   "cell_type": "code",
   "execution_count": 9,
   "metadata": {},
   "outputs": [],
   "source": [
    "# define mse function to compute\n",
    "def mse(X_test, y_test, model):\n",
    "    return np.mean((model.predict(X_test) - y_test)**2)"
   ]
  },
  {
   "cell_type": "code",
   "execution_count": 10,
   "metadata": {},
   "outputs": [],
   "source": [
    "# read the best fit model again, which is the largest R-squared score.\n",
    "diabetes_X = diabetes.data[:, np.newaxis, 2]\n",
    "diabetes_X_train = diabetes_X[:-20]\n",
    "diabetes_X_test = diabetes_X[-20:]\n",
    "diabetes_y_train = diabetes.target[:-20]\n",
    "diabetes_y_test = diabetes.target[-20:]\n",
    "model = linear_model.LinearRegression().fit(diabetes_X_train, diabetes_y_train)"
   ]
  },
  {
   "cell_type": "code",
   "execution_count": 11,
   "metadata": {},
   "outputs": [],
   "source": [
    "# compute the mse\n",
    "model_mse = mse(diabetes_X_test, diabetes_y_test, model)"
   ]
  },
  {
   "cell_type": "code",
   "execution_count": 12,
   "metadata": {},
   "outputs": [
    {
     "name": "stdout",
     "output_type": "stream",
     "text": [
      "Value of the loss function for the best fitted model is: 2548.0723987259694\n"
     ]
    }
   ],
   "source": [
    "# print the result\n",
    "print('Value of the loss function for the best fitted model is: %s' % str(model_mse))"
   ]
  },
  {
   "cell_type": "markdown",
   "metadata": {},
   "source": [
    "#### Q4. Plot the predictions and test data. (15%)"
   ]
  },
  {
   "cell_type": "code",
   "execution_count": 13,
   "metadata": {},
   "outputs": [
    {
     "data": {
      "text/plain": [
       "<matplotlib.collections.PathCollection at 0x7f92c5d19080>"
      ]
     },
     "execution_count": 13,
     "metadata": {},
     "output_type": "execute_result"
    }
   ],
   "source": [
    "# plot the real y\n",
    "plt.scatter(diabetes_X_test, diabetes_y_test, c='r', marker='o', \n",
    "           label='real test set')"
   ]
  },
  {
   "cell_type": "code",
   "execution_count": 14,
   "metadata": {},
   "outputs": [
    {
     "data": {
      "text/plain": [
       "<matplotlib.collections.PathCollection at 0x7f92c5d19588>"
      ]
     },
     "execution_count": 14,
     "metadata": {},
     "output_type": "execute_result"
    }
   ],
   "source": [
    "# plot the pred y\n",
    "plt.scatter(diabetes_X_test, model.predict(diabetes_X_test), c='b', \n",
    "           marker='X', label='real test set')"
   ]
  },
  {
   "cell_type": "code",
   "execution_count": 15,
   "metadata": {},
   "outputs": [
    {
     "data": {
      "image/png": "[encoded data removed]",
      "text/plain": [
       "<matplotlib.figure.Figure at 0x7f92c7d3ada0>"
      ]
     },
     "metadata": {},
     "output_type": "display_data"
    }
   ],
   "source": [
    "# set the labels\n",
    "plt.xlabel(feature_names[2])\n",
    "plt.ylabel('Disease Progression')\n",
    "plt.legend(loc='best')\n",
    "plt.show()"
   ]
  },
  {
   "cell_type": "code",
   "execution_count": null,
   "metadata": {},
   "outputs": [],
   "source": []
  },
  {
   "cell_type": "markdown",
   "metadata": {},
   "source": [
    "# Naive Bayes Classification in Scikit-learn (60%)"
   ]
  },
  {
   "cell_type": "code",
   "execution_count": 16,
   "metadata": {},
   "outputs": [],
   "source": [
    "import scipy.io as sio\n",
    "from sklearn.naive_bayes import BernoulliNB, GaussianNB, MultinomialNB"
   ]
  },
  {
   "cell_type": "markdown",
   "metadata": {},
   "source": [
    "#### 1. Load the train.mat data. (10%)"
   ]
  },
  {
   "cell_type": "code",
   "execution_count": 17,
   "metadata": {},
   "outputs": [],
   "source": [
    "path_train = 'train.mat'\n",
    "path_test = 'test.mat'"
   ]
  },
  {
   "cell_type": "code",
   "execution_count": 18,
   "metadata": {},
   "outputs": [],
   "source": [
    "# Read the mat file by scipy.io.\n",
    "# Since the return is 'dict', take the useful parts.\n",
    "X_train = sio.loadmat(path_train)['Xtrain']\n",
    "y_train = sio.loadmat(path_train)['ytrain']"
   ]
  },
  {
   "cell_type": "code",
   "execution_count": 19,
   "metadata": {},
   "outputs": [
    {
     "name": "stdout",
     "output_type": "stream",
     "text": [
      "Number of features in the Diabetes dataset is: 1899\n",
      "Number of samples in the Diabetes dataset is: 6665\n"
     ]
    }
   ],
   "source": [
    "# What are n_features and n_samples?\n",
    "print('Number of features in the Diabetes dataset is: %s' % str(X_train.shape[1]))\n",
    "print('Number of samples in the Diabetes dataset is: %s' % str(X_train.shape[0]))"
   ]
  },
  {
   "cell_type": "markdown",
   "metadata": {},
   "source": [
    "#### Choose a naive claffifier fron GaussianNB, MultinomialNB, BernoulliNB for the problem."
   ]
  },
  {
   "cell_type": "markdown",
   "metadata": {},
   "source": [
    "The reason to choose Multinomial Naive Bayes is because the document mentions that \"..., and is one of the two classic naive Bayes variants used in text classification ...\", and I think the dataset is similar to the document mentioned, which the distribution is parametrized by word vectors."
   ]
  },
  {
   "cell_type": "code",
   "execution_count": 20,
   "metadata": {},
   "outputs": [],
   "source": [
    "mnb = MultinomialNB(alpha=1e-10).fit(X_train, y_train.ravel())"
   ]
  },
  {
   "cell_type": "code",
   "execution_count": 21,
   "metadata": {},
   "outputs": [
    {
     "name": "stdout",
     "output_type": "stream",
     "text": [
      "The accuracy of the classifier: 0.9836459114778695\n"
     ]
    }
   ],
   "source": [
    "# How accurate is the classifier on the training data?\n",
    "# Calculate and print out the accuracy.\n",
    "model_score = mnb.score(X_train, y_train.ravel())\n",
    "print('The accuracy of the classifier: %s' % str(model_score))"
   ]
  },
  {
   "cell_type": "code",
   "execution_count": 22,
   "metadata": {},
   "outputs": [
    {
     "name": "stdout",
     "output_type": "stream",
     "text": [
      "Number of samples in the predicted dataset is: 1667\n"
     ]
    }
   ],
   "source": [
    "# 3. Load the test data test.mat and get predictions for the Xtest. (20%)\n",
    "X_test = sio.loadmat(path_test)['Xtest']\n",
    "y_pred = mnb.predict(X_test)\n",
    "print('Number of samples in the predicted dataset is: %s' % str(y_pred.shape[0]))"
   ]
  },
  {
   "cell_type": "code",
   "execution_count": 23,
   "metadata": {},
   "outputs": [],
   "source": [
    "# Write the results to the file prediction.txt.\n",
    "# Each line in prediction.txt is the corresponding label for the data point.\n",
    "output_path = 'prediction.txt'\n",
    "np.savetxt(output_path, y_pred, fmt='%d')"
   ]
  },
  {
   "cell_type": "markdown",
   "metadata": {},
   "source": [
    "# For Benchmark"
   ]
  },
  {
   "cell_type": "markdown",
   "metadata": {},
   "source": [
    "### BernoulliNB"
   ]
  },
  {
   "cell_type": "code",
   "execution_count": 24,
   "metadata": {},
   "outputs": [
    {
     "name": "stdout",
     "output_type": "stream",
     "text": [
      "The accuracy of the bernoulli naive bayes classifier: 0.9384846211552889\n"
     ]
    }
   ],
   "source": [
    "bnb = BernoulliNB(alpha=1e-10).fit(X_train, y_train.ravel())\n",
    "bnb_score = bnb.score(X_train, y_train.ravel())\n",
    "print('The accuracy of the bernoulli naive bayes classifier: %s' % str(bnb_score))"
   ]
  },
  {
   "cell_type": "markdown",
   "metadata": {},
   "source": [
    "### GaussianNB"
   ]
  },
  {
   "cell_type": "code",
   "execution_count": 25,
   "metadata": {},
   "outputs": [
    {
     "name": "stdout",
     "output_type": "stream",
     "text": [
      "The accuracy of the gaussian naive bayes classifier: 0.9249812453113279\n"
     ]
    }
   ],
   "source": [
    "gnb = GaussianNB().fit(X_train, y_train.ravel())\n",
    "gnb_score = gnb.score(X_train, y_train.ravel())\n",
    "print('The accuracy of the gaussian naive bayes classifier: %s' % str(gnb_score))"
   ]
  },
  {
   "cell_type": "code",
   "execution_count": null,
   "metadata": {},
   "outputs": [],
   "source": []
  }
 ],
 "metadata": {
  "kernelspec": {
   "display_name": "Python 3",
   "language": "python",
   "name": "python3"
  },
  "language_info": {
   "codemirror_mode": {
    "name": "ipython",
    "version": 3
   },
   "file_extension": ".py",
   "mimetype": "text/x-python",
   "name": "python",
   "nbconvert_exporter": "python",
   "pygments_lexer": "ipython3",
   "version": "3.5.2"
  }
 },
 "nbformat": 4,
 "nbformat_minor": 2
}
